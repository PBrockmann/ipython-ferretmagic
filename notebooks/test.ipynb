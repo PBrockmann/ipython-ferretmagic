{
 "cells": [
  {
   "cell_type": "code",
   "execution_count": 1,
   "metadata": {},
   "outputs": [],
   "source": [
    "import pyferret"
   ]
  },
  {
   "cell_type": "code",
   "execution_count": 2,
   "metadata": {},
   "outputs": [
    {
     "data": {
      "text/plain": [
       "True"
      ]
     },
     "execution_count": 2,
     "metadata": {},
     "output_type": "execute_result"
    }
   ],
   "source": [
    "pyferret.start(verify=False, journal=False, unmapped=True, quiet=False)"
   ]
  },
  {
   "cell_type": "code",
   "execution_count": 3,
   "metadata": {},
   "outputs": [
    {
     "data": {
      "text/plain": [
       "(3, '')"
      ]
     },
     "execution_count": 3,
     "metadata": {},
     "output_type": "execute_result"
    }
   ],
   "source": [
    "pyferret.run('set redirect/clobber/file=\"out.txt\" stdout')\n",
    "pyferret.run('set window/xpixel=300/aspect=0.8 1')\n",
    "pyferret.run('list i[i=1:10]')\n",
    "pyferret.run('plot sin(i[i=1:10])')\n",
    "pyferret.run('frame/file=\"plot.png\"/format=PNG')\n",
    "pyferret.run('cancel window 1')\n",
    "pyferret.run('cancel redirect')"
   ]
  },
  {
   "cell_type": "code",
   "execution_count": 4,
   "metadata": {},
   "outputs": [
    {
     "data": {
      "image/png": "[encoded data removed]",
      "text/plain": [
       "<IPython.core.display.Image object>"
      ]
     },
     "execution_count": 4,
     "metadata": {},
     "output_type": "execute_result"
    }
   ],
   "source": [
    "from IPython.display import Image\n",
    "Image('plot.png')"
   ]
  },
  {
   "cell_type": "code",
   "execution_count": 5,
   "metadata": {},
   "outputs": [
    {
     "name": "stdout",
     "output_type": "stream",
     "text": [
      "             VARIABLE : I\r\n",
      "                        axis ABSTRACT\r\n",
      "             SUBSET   : 10 points (X)\r\n",
      " 1    /  1:   1.00\r\n",
      " 2    /  2:   2.00\r\n",
      " 3    /  3:   3.00\r\n",
      " 4    /  4:   4.00\r\n",
      " 5    /  5:   5.00\r\n",
      " 6    /  6:   6.00\r\n",
      " 7    /  7:   7.00\r\n",
      " 8    /  8:   8.00\r\n",
      " 9    /  9:   9.00\r\n",
      " 10   / 10:  10.00\r\n"
     ]
    }
   ],
   "source": [
    "! cat out.txt"
   ]
  },
  {
   "cell_type": "code",
   "execution_count": null,
   "metadata": {},
   "outputs": [],
   "source": []
  },
  {
   "cell_type": "code",
   "execution_count": null,
   "metadata": {},
   "outputs": [],
   "source": []
  }
 ],
 "metadata": {
  "kernelspec": {
   "display_name": "Python 3",
   "language": "python",
   "name": "python3"
  },
  "language_info": {
   "codemirror_mode": {
    "name": "ipython",
    "version": 3
   },
   "file_extension": ".py",
   "mimetype": "text/x-python",
   "name": "python",
   "nbconvert_exporter": "python",
   "pygments_lexer": "ipython3",
   "version": "3.7.3"
  }
 },
 "nbformat": 4,
 "nbformat_minor": 2
}
